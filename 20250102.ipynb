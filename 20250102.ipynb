{
  "nbformat": 4,
  "nbformat_minor": 0,
  "metadata": {
    "colab": {
      "provenance": [],
      "authorship_tag": "ABX9TyP5oaIbkI7aLCWTwTSr6tfH",
      "include_colab_link": true
    },
    "kernelspec": {
      "name": "python3",
      "display_name": "Python 3"
    },
    "language_info": {
      "name": "python"
    }
  },
  "cells": [
    {
      "cell_type": "markdown",
      "metadata": {
        "id": "view-in-github",
        "colab_type": "text"
      },
      "source": [
        "<a href=\"https://colab.research.google.com/github/DorisF311/TibaMe-AI/blob/main/20250102.ipynb\" target=\"_parent\"><img src=\"https://colab.research.google.com/assets/colab-badge.svg\" alt=\"Open In Colab\"/></a>"
      ]
    },
    {
      "cell_type": "code",
      "execution_count": 4,
      "metadata": {
        "id": "BZr4zKKayuCd",
        "colab": {
          "base_uri": "https://localhost:8080/"
        },
        "outputId": "40a27550-0b50-4ed6-defa-618d66933f7d"
      },
      "outputs": [
        {
          "output_type": "stream",
          "name": "stdout",
          "text": [
            "8\n",
            "6.140000000000001\n"
          ]
        }
      ],
      "source": [
        "f= open(\"a.txt\", \"w\", encoding=\"utf-8\")\n",
        "f.write(\"abcde\")\n",
        "f.write(\"\\nfgh\")\n",
        "f.close()\n",
        "\n",
        "\n",
        "#一旦前面有預設值 後面的參數都要有預設值\n",
        "def add(n1, n2=3.14 ):\n",
        "    ans = n1 + n2\n",
        "    return ans\n",
        "\n",
        "print(add(3, 5))\n",
        "print(add(3))"
      ]
    },
    {
      "cell_type": "code",
      "source": [
        "f = open(\"sample_data/README.md\", \"r\" , encoding = \"utf-8\")\n",
        "content = f.read()\n",
        "print(content)\n",
        "f.close()"
      ],
      "metadata": {
        "colab": {
          "base_uri": "https://localhost:8080/"
        },
        "id": "NAEf1CMzvM7n",
        "outputId": "47003c55-bdc8-4c58-97af-33230fc2b1a8"
      },
      "execution_count": 6,
      "outputs": [
        {
          "output_type": "stream",
          "name": "stdout",
          "text": [
            "This directory includes a few sample datasets to get you started.\n",
            "\n",
            "*   `california_housing_data*.csv` is California housing data from the 1990 US\n",
            "    Census; more information is available at:\n",
            "    https://docs.google.com/document/d/e/2PACX-1vRhYtsvc5eOR2FWNCwaBiKL6suIOrxJig8LcSBbmCbyYsayia_DvPOOBlXZ4CAlQ5nlDD8kTaIDRwrN/pub\n",
            "\n",
            "*   `mnist_*.csv` is a small sample of the\n",
            "    [MNIST database](https://en.wikipedia.org/wiki/MNIST_database), which is\n",
            "    described at: http://yann.lecun.com/exdb/mnist/\n",
            "\n",
            "*   `anscombe.json` contains a copy of\n",
            "    [Anscombe's quartet](https://en.wikipedia.org/wiki/Anscombe%27s_quartet); it\n",
            "    was originally described in\n",
            "\n",
            "    Anscombe, F. J. (1973). 'Graphs in Statistical Analysis'. American\n",
            "    Statistician. 27 (1): 17-21. JSTOR 2682899.\n",
            "\n",
            "    and our copy was prepared by the\n",
            "    [vega_datasets library](https://github.com/altair-viz/vega_datasets/blob/4f67bdaad10f45e3549984e17e1b3088c731503d/vega_datasets/_data/anscombe.json).\n",
            "\n"
          ]
        }
      ]
    },
    {
      "cell_type": "code",
      "source": [
        "scores = [30 ,40 ,20 ,70 ,10]\n",
        "\n",
        "print(sum(scores),\n",
        "      min(scores),\n",
        "      max(scores),\n",
        "      len(scores))\n",
        "\n",
        "print(type(scores[-1]))\n",
        "print(type(scores[2:4]))\n",
        "print(scores[-1::-2])\n",
        "print(scores[:-1])\n"
      ],
      "metadata": {
        "colab": {
          "base_uri": "https://localhost:8080/"
        },
        "id": "dGnFSOcX20WP",
        "outputId": "dbfc86a5-e2a0-4d97-a5e9-ca20dc76ad7f"
      },
      "execution_count": 20,
      "outputs": [
        {
          "output_type": "stream",
          "name": "stdout",
          "text": [
            "170 10 70 5\n",
            "<class 'int'>\n",
            "<class 'list'>\n",
            "[10, 20, 30]\n",
            "[30, 40, 20, 70]\n"
          ]
        }
      ]
    },
    {
      "cell_type": "code",
      "source": [
        "scores = [ 60, 30, 80, 90 , 20]\n",
        "\n",
        "total = 0\n",
        "#i = 0\n",
        "\n",
        "#while i <= len(scores)-1:\n",
        "#    if scores[i] >= 60:\n",
        "#        total = total +1\n",
        "#    i = i+1\n",
        "\n",
        "for a in scores:\n",
        "    if a >= 60:\n",
        "        total = total +1\n",
        "\n",
        "print(total)"
      ],
      "metadata": {
        "colab": {
          "base_uri": "https://localhost:8080/"
        },
        "id": "IP7-n0rl-qQ7",
        "outputId": "8d3a4cec-1e36-41ef-89cd-2d13c9c2a3e5"
      },
      "execution_count": 34,
      "outputs": [
        {
          "output_type": "stream",
          "name": "stdout",
          "text": [
            "3\n"
          ]
        }
      ]
    },
    {
      "cell_type": "code",
      "source": [
        "list = [1, 2, 3, 4, 5, 6, 7, 8, 9, 10]\n",
        "\n",
        "n_sum =0\n",
        "for n in list:\n",
        "    n_sum = n_sum + n\n",
        "\n",
        "print(n_sum)"
      ],
      "metadata": {
        "colab": {
          "base_uri": "https://localhost:8080/"
        },
        "id": "65Xd3AU9DgJD",
        "outputId": "35d55147-7b3b-461a-c8be-ce1fbc7a0e77"
      },
      "execution_count": 32,
      "outputs": [
        {
          "output_type": "stream",
          "name": "stdout",
          "text": [
            "55\n"
          ]
        }
      ]
    },
    {
      "cell_type": "code",
      "source": [],
      "metadata": {
        "id": "VH-SL4yhGJHs"
      },
      "execution_count": null,
      "outputs": []
    }
  ]
}