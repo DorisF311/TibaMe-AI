{
  "nbformat": 4,
  "nbformat_minor": 0,
  "metadata": {
    "colab": {
      "provenance": [],
      "authorship_tag": "ABX9TyODGWO9Ft4lfvjcWS2HkHmZ",
      "include_colab_link": true
    },
    "kernelspec": {
      "name": "python3",
      "display_name": "Python 3"
    },
    "language_info": {
      "name": "python"
    }
  },
  "cells": [
    {
      "cell_type": "markdown",
      "metadata": {
        "id": "view-in-github",
        "colab_type": "text"
      },
      "source": [
        "<a href=\"https://colab.research.google.com/github/DorisF311/TibaMe-AI/blob/main/20241230_%E5%81%9A%E4%B8%AD%E5%AD%B8.ipynb\" target=\"_parent\"><img src=\"https://colab.research.google.com/assets/colab-badge.svg\" alt=\"Open In Colab\"/></a>"
      ]
    },
    {
      "cell_type": "code",
      "execution_count": null,
      "metadata": {
        "colab": {
          "base_uri": "https://localhost:8080/"
        },
        "id": "mrNR8yDAHsL1",
        "outputId": "4c3b2473-6e79-463e-8618-867dff91c26a"
      },
      "outputs": [
        {
          "output_type": "stream",
          "name": "stdout",
          "text": [
            "         o\n",
            "        oo\n",
            "       ooo\n",
            "      oooo\n",
            "     ooooo\n",
            "    oooooo\n",
            "   ooooooo\n",
            "  oooooooo\n",
            " ooooooooo\n",
            "oooooooooo\n"
          ]
        }
      ],
      "source": [
        "i=0\n",
        "hight =10\n",
        "lsymbol, rsymbol =\" \" , \"o\"\n",
        "\n",
        "while i < hight:\n",
        "  lcount = hight - i - 1\n",
        "  rcount = i + 1\n",
        "\n",
        "  print(lsymbol * lcount\n",
        "        + rsymbol * rcount)\n",
        "  i = i + 1\n"
      ]
    },
    {
      "cell_type": "markdown",
      "source": [],
      "metadata": {
        "id": "sojHwO0pluDq"
      }
    },
    {
      "cell_type": "code",
      "source": [
        "i=0\n",
        "hight =10\n",
        "\n",
        "symbol =[\"♫\" ,\"♪\" ,\"♣\" , \"♥\"]\n",
        "\n",
        "\n",
        "while i < hight:\n",
        "  lcount = i + 1\n",
        "  mcount = (2 * hight -1) - 2 * i\n",
        "  rcount = i + 1\n",
        "\n",
        "  lsymbol, msymbol , rsymbol = \" \" , symbol[i% len(symbol)] , \" \"\n",
        "\n",
        "  #if i % 2 == 0:\n",
        "  print(lsymbol * lcount +\n",
        "      msymbol * mcount +\n",
        "      rsymbol * rcount)\n",
        "  #else:\n",
        "  #  print(lsymbol * lcount +\n",
        "   #   msymbol * mcount +\n",
        "    #  rsymbol * rcount)\n",
        "\n",
        "  i = i + 1"
      ],
      "metadata": {
        "colab": {
          "base_uri": "https://localhost:8080/"
        },
        "id": "YHiP9oPIlugH",
        "outputId": "705d9c5f-123f-412f-cd7a-9013eb48e1ea"
      },
      "execution_count": null,
      "outputs": [
        {
          "output_type": "stream",
          "name": "stdout",
          "text": [
            " ♫♫♫♫♫♫♫♫♫♫♫♫♫♫♫♫♫♫♫ \n",
            "  ♪♪♪♪♪♪♪♪♪♪♪♪♪♪♪♪♪  \n",
            "   ♣♣♣♣♣♣♣♣♣♣♣♣♣♣♣   \n",
            "    ♥♥♥♥♥♥♥♥♥♥♥♥♥    \n",
            "     ♫♫♫♫♫♫♫♫♫♫♫     \n",
            "      ♪♪♪♪♪♪♪♪♪      \n",
            "       ♣♣♣♣♣♣♣       \n",
            "        ♥♥♥♥♥        \n",
            "         ♫♫♫         \n",
            "          ♪          \n"
          ]
        }
      ]
    },
    {
      "cell_type": "code",
      "source": [
        "i=0\n",
        "total =0\n",
        "\n",
        "while i <10:\n",
        "\n",
        "  total = total + ( i + 1 )\n",
        "  print (total)\n",
        "  i = i + 1\n",
        "\n"
      ],
      "metadata": {
        "colab": {
          "base_uri": "https://localhost:8080/"
        },
        "id": "2O578cCtgvh-",
        "outputId": "8c9b8b1a-f255-4ff9-ab52-4a00ad40210b"
      },
      "execution_count": null,
      "outputs": [
        {
          "output_type": "stream",
          "name": "stdout",
          "text": [
            "1\n",
            "3\n",
            "6\n",
            "10\n",
            "15\n",
            "21\n",
            "28\n",
            "36\n",
            "45\n",
            "55\n"
          ]
        }
      ]
    },
    {
      "cell_type": "code",
      "source": [
        "a , b = 2 , 7\n",
        "i=0\n",
        "ans = \"0.\"\n",
        "\n",
        "while i < 10:\n",
        "\n",
        "  a10 = a * 10\n",
        "  ans = ans + str( a10 // b)\n",
        "  a = (a10 % b)\n",
        "  print(ans)\n",
        "\n",
        "  i = i + 1\n",
        "\n"
      ],
      "metadata": {
        "colab": {
          "base_uri": "https://localhost:8080/"
        },
        "id": "1fyTMTWkH8MI",
        "outputId": "6c0bde9b-183e-407b-ceaf-9044240826b7"
      },
      "execution_count": null,
      "outputs": [
        {
          "output_type": "stream",
          "name": "stdout",
          "text": [
            "0.2\n",
            "0.28\n",
            "0.285\n",
            "0.2857\n",
            "0.28571\n",
            "0.285714\n",
            "0.2857142\n",
            "0.28571428\n",
            "0.285714285\n",
            "0.2857142857\n"
          ]
        }
      ]
    },
    {
      "cell_type": "code",
      "source": [
        "s = \"aaaa57jKW25Dl    , , 2 QJFpdai35ut\"\n",
        "#統計字串裡有多少個小寫大寫\n",
        "\n",
        "i = 0\n",
        "big_E = 0\n",
        "small_E = 0\n",
        "Num = 0\n",
        "Blank = 0\n",
        "\n",
        "\n",
        "\n",
        "while i < len(s):\n",
        "\n",
        "  if ord(\"A\") <= ord(s[i]) <= ord(\"Z\"):\n",
        "    big_E = big_E + 1\n",
        "\n",
        "  elif ord(\"a\") <= ord(s[i]) <= ord(\"z\"):\n",
        "    small_E = small_E + 1\n",
        "\n",
        "  elif s[i] == \" \":\n",
        "    Blank = Blank + 1\n",
        "\n",
        "  elif 48 < ord(s[i]) < 58:\n",
        "    Num = Num + 1\n",
        "  i = i + 1\n",
        "\n",
        "print(big_E , small_E , Num , Blank )\n",
        "\n",
        "\n"
      ],
      "metadata": {
        "id": "aaDDLGYnMGAI",
        "colab": {
          "base_uri": "https://localhost:8080/"
        },
        "outputId": "80852637-bb79-4133-81e3-411a2c18ae55"
      },
      "execution_count": null,
      "outputs": [
        {
          "output_type": "stream",
          "name": "stdout",
          "text": [
            "6 13 7 7\n"
          ]
        }
      ]
    },
    {
      "cell_type": "code",
      "source": [
        "s = \"aaaa57jKW25Dl    , , 2 QJFpdai35ut\"\n",
        "# 統計每個大小寫重複幾次\n",
        "\n",
        "\n",
        "ucases = [0] * 26\n",
        "lcases = [0] * 26\n",
        "\n",
        "i = 0\n",
        "\n",
        "while i < len(s):\n",
        "  n = ord(s[i])\n",
        "  if ord(\"A\") <= n <= ord(\"Z\"):\n",
        "    n = n - ord(\"A\")\n",
        "    ucases[n] = ucases[n] + 1\n",
        "\n",
        "  elif ord(\"a\") <= n <= ord(\"z\"):\n",
        "    n = n - ord(\"a\")\n",
        "    lcases[n] = lcases[n] + 1\n",
        "\n",
        "  i = i + 1\n",
        "\n",
        "print( ucases)\n",
        "print( lcases)\n",
        "\n",
        "\n",
        "i = 0\n",
        "\n",
        "while i < len(ucases):\n",
        "  uc , lc = chr(i + ord(\"A\")) , chr(i + ord(\"a\"))\n",
        "  un , ln = ucases[i], lcases[i]\n",
        "\n",
        "  print( uc, \":\" , un)\n",
        "  print( lc, \":\" , ln)\n",
        "\n",
        "  i = i + 1\n"
      ],
      "metadata": {
        "colab": {
          "base_uri": "https://localhost:8080/"
        },
        "id": "CtpPXDdfSUiE",
        "outputId": "0a49e05b-bbf4-4016-b68c-1d9d21a8873a"
      },
      "execution_count": null,
      "outputs": [
        {
          "output_type": "stream",
          "name": "stdout",
          "text": [
            "[0, 0, 0, 1, 0, 1, 0, 0, 0, 1, 1, 0, 0, 0, 0, 0, 1, 0, 0, 0, 0, 0, 1, 0, 0, 0]\n",
            "[5, 0, 0, 1, 0, 0, 0, 0, 1, 1, 0, 1, 0, 0, 0, 1, 0, 0, 0, 1, 1, 0, 0, 0, 0, 0]\n",
            "A : 0\n",
            "a : 5\n",
            "B : 0\n",
            "b : 0\n",
            "C : 0\n",
            "c : 0\n",
            "D : 1\n",
            "d : 1\n",
            "E : 0\n",
            "e : 0\n",
            "F : 1\n",
            "f : 0\n",
            "G : 0\n",
            "g : 0\n",
            "H : 0\n",
            "h : 0\n",
            "I : 0\n",
            "i : 1\n",
            "J : 1\n",
            "j : 1\n",
            "K : 1\n",
            "k : 0\n",
            "L : 0\n",
            "l : 1\n",
            "M : 0\n",
            "m : 0\n",
            "N : 0\n",
            "n : 0\n",
            "O : 0\n",
            "o : 0\n",
            "P : 0\n",
            "p : 1\n",
            "Q : 1\n",
            "q : 0\n",
            "R : 0\n",
            "r : 0\n",
            "S : 0\n",
            "s : 0\n",
            "T : 0\n",
            "t : 1\n",
            "U : 0\n",
            "u : 1\n",
            "V : 0\n",
            "v : 0\n",
            "W : 1\n",
            "w : 0\n",
            "X : 0\n",
            "x : 0\n",
            "Y : 0\n",
            "y : 0\n",
            "Z : 0\n",
            "z : 0\n"
          ]
        }
      ]
    },
    {
      "cell_type": "code",
      "source": [
        "# x的最左邊座標和x的最右邊座標\n",
        "x_left, x_right = -1, 1\n",
        "# 分成幾分(100)\n",
        "part = 1000000\n",
        "# 每一part的x多長\n",
        "interval = (x_right - x_left) / part\n",
        "\n",
        "# 總面積\n",
        "total = 0\n",
        "# 積分法: 把每一part的面積(小長方形)加總起來\n",
        "i = 0\n",
        "while i < part:\n",
        "    # 每一part的左x座標: -1 + 0.02 * i\n",
        "    x = x_left + interval * i\n",
        "    # 算出這裡的y座標多長: 2 * (1 - x ^ 2) ^ 0.5\n",
        "    y = 2 * (1 - x ** 2) ** 0.5\n",
        "    # 每一part面積\n",
        "    area = interval * y\n",
        "    # 把每一part累積進去\n",
        "    total = total + area\n",
        "    i = i + 1\n",
        "print(\"積分法估算面積:\", total)\n",
        "\n"
      ],
      "metadata": {
        "colab": {
          "base_uri": "https://localhost:8080/"
        },
        "id": "-hrjrM0dSW3z",
        "outputId": "722fcb50-1c85-453e-f99a-59e419055910"
      },
      "execution_count": null,
      "outputs": [
        {
          "output_type": "stream",
          "name": "stdout",
          "text": [
            "積分法估算面積: 3.141592650263455\n"
          ]
        }
      ]
    }
  ]
}