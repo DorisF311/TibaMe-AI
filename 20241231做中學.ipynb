{
  "nbformat": 4,
  "nbformat_minor": 0,
  "metadata": {
    "colab": {
      "provenance": [],
      "authorship_tag": "ABX9TyPCi2Q4LLkLa3LvgYMLU8jK",
      "include_colab_link": true
    },
    "kernelspec": {
      "name": "python3",
      "display_name": "Python 3"
    },
    "language_info": {
      "name": "python"
    }
  },
  "cells": [
    {
      "cell_type": "markdown",
      "metadata": {
        "id": "view-in-github",
        "colab_type": "text"
      },
      "source": [
        "<a href=\"https://colab.research.google.com/github/DorisF311/TibaMe-AI/blob/main/20241231%E5%81%9A%E4%B8%AD%E5%AD%B8.ipynb\" target=\"_parent\"><img src=\"https://colab.research.google.com/assets/colab-badge.svg\" alt=\"Open In Colab\"/></a>"
      ]
    },
    {
      "cell_type": "code",
      "source": [
        "import random\n",
        "trans = [\"L\" , \"E\" , \"W\"]\n",
        "win , even , lose = 0 , 0 , 0\n",
        "\n",
        "while True:\n",
        "    result = random.randint(-1 , 1)\n",
        "    print(trans[result+1])\n",
        "    if result == -1:\n",
        "        lose = lose + 1\n",
        "    elif result == 0:\n",
        "        even = even + 1\n",
        "    elif result == 1:\n",
        "        win = win + 1\n",
        "\n",
        "    if win >= 3:\n",
        "        print(\"累計結果贏!!\")\n",
        "        break\n",
        "\n",
        "    elif lose >= 3:\n",
        "        print(\"累計結果輸拉ˊˋ\")\n",
        "        break\n",
        "\n"
      ],
      "metadata": {
        "id": "kgZ2vQ0mRgei",
        "outputId": "e8a61f3c-b8b4-4391-a7e4-6c0ed1d40df0",
        "colab": {
          "base_uri": "https://localhost:8080/"
        }
      },
      "execution_count": 9,
      "outputs": [
        {
          "output_type": "stream",
          "name": "stdout",
          "text": [
            "W\n",
            "L\n",
            "W\n",
            "W\n",
            "累計結果贏!!\n"
          ]
        }
      ]
    },
    {
      "cell_type": "code",
      "source": [
        "a, b = 50 , 7\n",
        "\n",
        "ans = str(a//b)  + \".\"\n",
        "a = a % b\n",
        "i = 0\n",
        "while i < 10:\n",
        "    # 2 -> 20\n",
        "    a10 = a * 10\n",
        "    # 20 // 7 -> 0.2\n",
        "    ans = ans + str(a10 // b)\n",
        "    print(ans)\n",
        "    # 20 % 7\n",
        "    a = a10 % b\n",
        "\n",
        "\n",
        "    if a == 0:\n",
        "        break\n",
        "    else:\n",
        "        i = i +1\n"
      ],
      "metadata": {
        "id": "GLIcPXI4hKqF",
        "outputId": "4c213184-0a3f-4066-c87d-a93da5ad6319",
        "colab": {
          "base_uri": "https://localhost:8080/"
        }
      },
      "execution_count": 17,
      "outputs": [
        {
          "output_type": "stream",
          "name": "stdout",
          "text": [
            "7.1\n",
            "7.14\n",
            "7.142\n",
            "7.1428\n",
            "7.14285\n",
            "7.142857\n",
            "7.1428571\n",
            "7.14285714\n",
            "7.142857142\n",
            "7.1428571428\n"
          ]
        }
      ]
    },
    {
      "cell_type": "code",
      "source": [
        "# 太難了!!!!\n",
        "\n",
        "n = 20000229\n",
        "last4 = n % 10000\n",
        "d = last4 % 100\n",
        "m = last4 //100\n",
        "y = n // 10000\n",
        "mlist = [31,28,31,30,31,30,31,31,30,31,30,31]\n",
        "print(y , m , d )\n",
        "\n",
        "if 1 <= m <= 12:\n",
        "    max_m = mlist[m-1]\n",
        "\n",
        "    if m == 2 :\n",
        "        if y % 400 == 0 :\n",
        "            max_m = max_m + 1\n",
        "        elif y % 100 == 0 :\n",
        "            pass\n",
        "        elif y % 4 == 0:\n",
        "             max_m = max_m + 1\n",
        "\n",
        "    if 1 <= d <= (max_m):\n",
        "        print(\"合理日期\")\n",
        "    else:\n",
        "            print(\"不合理日期\")\n",
        "else:\n",
        "    print(\"不合理月份\")\n",
        "\n"
      ],
      "metadata": {
        "id": "8CLsh6fwhmjA",
        "outputId": "b5ef4aa7-1386-4f79-d04c-6a933ff073d0",
        "colab": {
          "base_uri": "https://localhost:8080/"
        }
      },
      "execution_count": 73,
      "outputs": [
        {
          "output_type": "stream",
          "name": "stdout",
          "text": [
            "2000 2 29\n",
            "合理日期\n"
          ]
        }
      ]
    },
    {
      "cell_type": "code",
      "source": [
        "#自訂功能\n",
        "\n",
        "def is_leapyear(year):\n",
        "    if year % 400 == 0 :\n",
        "        return True\n",
        "    elif year % 100 == 0 :\n",
        "        return False\n",
        "    elif year % 4 == 0:\n",
        "        return True\n",
        "    else:\n",
        "        return False\n",
        "\n",
        "def is_valid(n) :\n",
        "    last4 = n % 10000\n",
        "    d = last4 % 100\n",
        "    m = last4 //100\n",
        "    y = n // 10000\n",
        "    mlist = [31,28,31,30,31,30,31,31,30,31,30,31]\n",
        "    #print(y , m , d )\n",
        "\n",
        "    if 1 <= m <= 12:\n",
        "        max_m = mlist[m-1]\n",
        "\n",
        "        if m == 2 and is_leapyear(y) == True:\n",
        "            max_m = max_m + 1\n",
        "\n",
        "        if 1 <= d <= (max_m):\n",
        "            #print(\"合理日期\")\n",
        "            return True\n",
        "        else:\n",
        "            # print(\"不合理日期\")\n",
        "            return False\n",
        "    else:\n",
        "        #print(\"不合理月份\")\n",
        "        return False\n",
        "\n",
        "#print(is_valid(20000229))\n",
        "\n",
        "def is_square_date(sq):\n",
        "    start = 4500\n",
        "    if sq >= start:\n",
        "        if is_valid(sq **2) :\n",
        "            #print(\"有效平方日\")\n",
        "            return True\n",
        "        else:\n",
        "            return False\n",
        "            #print(\"非平方日\")\n",
        "    else:\n",
        "         return False\n",
        "         #print(\"請輸入大於4500的值\")\n",
        "\n",
        "#is_square_date(4502)\n",
        "\n",
        "\n",
        "i = 0\n",
        "start = 4500\n",
        "while i <=10 and start <5000:\n",
        "\n",
        "    if is_square_date(start):\n",
        "        print(str(start ** 2) + \"有效平方日\")\n",
        "        i = i + 1\n",
        "        start = start +1\n",
        "    else:\n",
        "        start = start +1\n",
        "        continue\n"
      ],
      "metadata": {
        "id": "2QTTVMKCoUuh",
        "outputId": "51c595da-39e5-4e5d-e39b-a3f216fdeb5f",
        "colab": {
          "base_uri": "https://localhost:8080/"
        }
      },
      "execution_count": 115,
      "outputs": [
        {
          "output_type": "stream",
          "name": "stdout",
          "text": [
            "20720704有效平方日\n",
            "20930625有效平方日\n",
            "21150801有效平方日\n",
            "21390625有效平方日\n",
            "21520321有效平方日\n",
            "21641104有效平方日\n",
            "21650409有效平方日\n",
            "21790224有效平方日\n",
            "21921124有效平方日\n",
            "22071204有效平方日\n",
            "22080601有效平方日\n"
          ]
        }
      ]
    },
    {
      "cell_type": "code",
      "source": [
        "\n",
        "import math\n",
        "print(math.ceil(20241231 ** 0.5))\n",
        "print(math.floor(20241231 ** 0.5))\n",
        "\n"
      ],
      "metadata": {
        "id": "iXUu87aCTLZB",
        "outputId": "9c74a52b-32c4-4739-bfc7-2fe5010b53fd",
        "colab": {
          "base_uri": "https://localhost:8080/"
        }
      },
      "execution_count": 95,
      "outputs": [
        {
          "output_type": "execute_result",
          "data": {
            "text/plain": [
              "4500"
            ]
          },
          "metadata": {},
          "execution_count": 95
        }
      ]
    },
    {
      "cell_type": "code",
      "source": [],
      "metadata": {
        "id": "GCulRt47bnXk"
      },
      "execution_count": null,
      "outputs": []
    }
  ]
}