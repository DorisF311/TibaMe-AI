{
  "nbformat": 4,
  "nbformat_minor": 0,
  "metadata": {
    "colab": {
      "provenance": [],
      "toc_visible": true,
      "authorship_tag": "ABX9TyPIouLbiKCzwugDcb1sAlPw",
      "include_colab_link": true
    },
    "kernelspec": {
      "name": "python3",
      "display_name": "Python 3"
    },
    "language_info": {
      "name": "python"
    }
  },
  "cells": [
    {
      "cell_type": "markdown",
      "metadata": {
        "id": "view-in-github",
        "colab_type": "text"
      },
      "source": [
        "<a href=\"https://colab.research.google.com/github/DorisF311/TibaMe-AI/blob/main/%E5%81%9A%E4%B8%AD%E5%AD%B81224.ipynb\" target=\"_parent\"><img src=\"https://colab.research.google.com/assets/colab-badge.svg\" alt=\"Open In Colab\"/></a>"
      ]
    },
    {
      "cell_type": "code",
      "execution_count": null,
      "metadata": {
        "id": "QCu_c10ugO1Z"
      },
      "outputs": [],
      "source": []
    },
    {
      "cell_type": "markdown",
      "source": [
        "\n",
        "\n",
        "```\n",
        "$ a = \\sum_{i=0}^{n} \\frac{1}{n=1} $\n",
        "```\n",
        "\n",
        "latex math\n",
        "\n",
        "$ a = \\sum_{i=0}^{n} \\frac{1}{n=1} $\n",
        "\n"
      ],
      "metadata": {
        "id": "wBCHzKnXhiln"
      }
    },
    {
      "cell_type": "markdown",
      "source": [
        "```python\n",
        "Bmi程式\n",
        "自由輸入、計算、建議\n",
        "#BMI = weight(kg) / height(m) ^2\n",
        "\n",
        "```"
      ],
      "metadata": {
        "id": "EZ3r-43ylsdD"
      }
    },
    {
      "cell_type": "code",
      "source": [
        "height = 154\n",
        "weight = 70\n",
        "\n",
        "print('你的身高是',height)\n",
        "print('你的體重是',weight)\n",
        "\n",
        "print(weight / (height / 100) ** 2)"
      ],
      "metadata": {
        "colab": {
          "base_uri": "https://localhost:8080/"
        },
        "id": "rf2uAogrhtud",
        "outputId": "9c2cc879-d119-4889-8ed4-8fe6ffa1657c"
      },
      "execution_count": 2,
      "outputs": [
        {
          "output_type": "stream",
          "name": "stdout",
          "text": [
            "你的身高是 154\n",
            "70\n",
            "29.515938606847698\n"
          ]
        }
      ]
    },
    {
      "cell_type": "code",
      "source": [],
      "metadata": {
        "id": "xtkgQlE9s1n8"
      },
      "execution_count": null,
      "outputs": []
    }
  ]
}