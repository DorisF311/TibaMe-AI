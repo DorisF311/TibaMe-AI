{
  "nbformat": 4,
  "nbformat_minor": 0,
  "metadata": {
    "colab": {
      "provenance": [],
      "toc_visible": true,
      "authorship_tag": "ABX9TyMAPfv2KpRNdSc9pf3Vowfx",
      "include_colab_link": true
    },
    "kernelspec": {
      "name": "python3",
      "display_name": "Python 3"
    },
    "language_info": {
      "name": "python"
    }
  },
  "cells": [
    {
      "cell_type": "markdown",
      "metadata": {
        "id": "view-in-github",
        "colab_type": "text"
      },
      "source": [
        "<a href=\"https://colab.research.google.com/github/DorisF311/TibaMe-AI/blob/main/20241224_%E5%81%9A%E4%B8%AD%E5%AD%B8.ipynb\" target=\"_parent\"><img src=\"https://colab.research.google.com/assets/colab-badge.svg\" alt=\"Open In Colab\"/></a>"
      ]
    },
    {
      "cell_type": "code",
      "execution_count": 12,
      "metadata": {
        "id": "QCu_c10ugO1Z",
        "colab": {
          "base_uri": "https://localhost:8080/"
        },
        "outputId": "816bb282-266f-4c6e-9dc1-395bc5573bb8"
      },
      "outputs": [
        {
          "output_type": "stream",
          "name": "stdout",
          "text": [
            "輸入0-5:2\n",
            "你出: 布(0) \n",
            "電腦出: 剪刀(0)\n",
            "我輸了 Lose..\n"
          ]
        }
      ],
      "source": [
        "#剪刀石頭布(作業) 0 1 2 3 4 5\n",
        "\n",
        "import random\n",
        "\n",
        "my = int(input(\"輸入0-5:\"))\n",
        "com = random.randint(0,5)\n",
        "trans =[\"剪刀(0)\",\"石頭(0)\",\"布(0)\",\n",
        "     \"剪刀(1)\",\"石頭(1)\",\"布(1)\"]\n",
        "\n",
        "print(\"你出:\", trans[my] + \" \\n電腦出:\", trans[com])\n",
        "\n",
        "if (my // 3) == (com // 3):\n",
        "  my2 = my % 3\n",
        "  com2 = com % 3\n",
        "  if my2 ==  (com + 1) % 3:\n",
        "    print(\"我贏了 WIN!!\")\n",
        "  elif com2 == (my2 + 1) % 3:\n",
        "    print(\"我輸了 Lose..\")\n",
        "  else:\n",
        "    print(\"平手\")\n",
        "else:\n",
        "  print(\"不同組\")"
      ]
    },
    {
      "cell_type": "code",
      "source": [
        "\n",
        "height = int(input(\"你多高:\"))\n",
        "weight = int(input(\"你多重:\"))\n",
        "BMI = weight / (height / 100) ** 2\n",
        "\n",
        "print('你的身高是:', height)\n",
        "print('你的體重是:', weight)\n",
        "print(\"BMI是:\", BMI)\n",
        "\n",
        "if BMI > 25:\n",
        "  print(\"FAT\")\n",
        "  print(\"少吃多動\")\n",
        "elif BMI > 18:\n",
        "  print(\"正常\")\n",
        "else:\n",
        "  print(\"oh 要多吃點內!\")\n"
      ],
      "metadata": {
        "colab": {
          "base_uri": "https://localhost:8080/"
        },
        "id": "rf2uAogrhtud",
        "outputId": "e0d55383-67b6-4ffe-f6ff-f1dff2d45b29"
      },
      "execution_count": null,
      "outputs": [
        {
          "output_type": "stream",
          "name": "stdout",
          "text": [
            "你多高:155\n",
            "你多重:34\n",
            "你的身高是: 155\n",
            "你的體重是: 34\n",
            "BMI是: 14.151925078043703\n",
            "多吃點\n"
          ]
        }
      ]
    },
    {
      "cell_type": "markdown",
      "source": [
        "1\n",
        "\n",
        "```\n",
        "Bmi程式\n",
        "自由輸入、計算、建議\n",
        "# BMI = weight(kg) / height(m) ^2$ a = \\sum_{i=0}^{n} \\frac{1}{n=1} $\n",
        "```\n",
        "\n",
        "latex math\n",
        "\n",
        "$ a = \\sum_{i=0}^{n} \\frac{1}{n=1} $\n",
        "\n"
      ],
      "metadata": {
        "id": "wBCHzKnXhiln"
      }
    },
    {
      "cell_type": "code",
      "source": [
        "import random\n",
        "\n",
        "my = int(input(\"0.剪刀 1.石頭 2.布:\"))\n",
        "com = random.randint(0, 2)\n",
        "trans = [\"剪刀\", \"石頭\", \"布\"]\n",
        "print(\"我出的:\", trans[my])\n",
        "print(\"電腦的:\", trans[com])\n",
        "\n",
        "# >, >=, <, <=, ==\n",
        "if my == (com + 1) % 3:\n",
        "    print(\"WIN\")\n",
        "elif com == (my + 1) % 3:\n",
        "    print(\"LOSE\")\n",
        "else:\n",
        "    print(\"EVEN\")\n",
        "# 如果你的縮排在這裡 什麼時候都會印\n",
        "print(\"!!!!!!!\")"
      ],
      "metadata": {
        "id": "I_6CTfhfs1xN"
      },
      "execution_count": null,
      "outputs": []
    }
  ]
}